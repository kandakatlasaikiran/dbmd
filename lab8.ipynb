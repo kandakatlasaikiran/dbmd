{
  "cells": [
    {
      "cell_type": "markdown",
      "metadata": {
        "id": "view-in-github",
        "colab_type": "text"
      },
      "source": [
        "<a href=\"https://colab.research.google.com/github/kandakatlasaikiran/dbmd/blob/main/lab8.ipynb\" target=\"_parent\"><img src=\"https://colab.research.google.com/assets/colab-badge.svg\" alt=\"Open In Colab\"/></a>"
      ]
    },
    {
      "cell_type": "code",
      "execution_count": 4,
      "id": "20503d6b",
      "metadata": {
        "colab": {
          "base_uri": "https://localhost:8080/"
        },
        "id": "20503d6b",
        "outputId": "ec3e0bea-80b9-420f-9dc0-239075f06a7a"
      },
      "outputs": [
        {
          "output_type": "stream",
          "name": "stdout",
          "text": [
            "[4.3 4.4 4.6 4.6 4.6 4.7 4.7 4.8 4.8 4.8 4.9 4.9 5.  5.  5.  5.  5.1 5.1\n",
            " 5.1 5.1 5.1 5.2 5.2 5.4 5.4 5.4 5.4 5.7 5.7 5.8]\n"
          ]
        }
      ],
      "source": [
        "# Write a python program to perform transformation of data using Discretization (Binning) and Normalization (MinMaxScaler or MaxAbsScaler) on given dataset.\n",
        "import numpy as np\n",
        "import math\n",
        "import pandas as pd\n",
        "df=pd.read_csv('/Iris.csv')\n",
        "data=df['SepalLengthCm']\n",
        "data=data[:30]\n",
        "data=np.sort(data)\n",
        "print(data)"
      ]
    },
    {
      "cell_type": "code",
      "execution_count": 5,
      "id": "0bb57268",
      "metadata": {
        "colab": {
          "base_uri": "https://localhost:8080/"
        },
        "id": "0bb57268",
        "outputId": "35ded46b-cf2a-4c0d-ee58-d3347180689b"
      },
      "outputs": [
        {
          "output_type": "stream",
          "name": "stdout",
          "text": [
            "-----------------Mean Bin:----------------- \n",
            " [[4.43333333 4.43333333 4.43333333]\n",
            " [4.63333333 4.63333333 4.63333333]\n",
            " [4.76666667 4.76666667 4.76666667]\n",
            " [4.86666667 4.86666667 4.86666667]\n",
            " [5.         5.         5.        ]\n",
            " [5.06666667 5.06666667 5.06666667]\n",
            " [5.1        5.1        5.1       ]\n",
            " [5.26666667 5.26666667 5.26666667]\n",
            " [5.4        5.4        5.4       ]\n",
            " [5.73333333 5.73333333 5.73333333]]\n"
          ]
        }
      ],
      "source": [
        "b1=np.zeros((10,3))\n",
        "b2=np.zeros((10,3))\n",
        "b3=np.zeros((10,3))\n",
        "for i in range (0,30,3): \n",
        "    k=int(i/3) \n",
        "    mean=(data[i] + data[i+1] + data[i+2] )/3\n",
        "    for j in range(3): \n",
        "        b1[k,j]=mean \n",
        "print(\"-----------------Mean Bin:----------------- \\n\",b1)"
      ]
    },
    {
      "cell_type": "code",
      "execution_count": 6,
      "id": "3ffa9cd3",
      "metadata": {
        "colab": {
          "base_uri": "https://localhost:8080/"
        },
        "id": "3ffa9cd3",
        "outputId": "ad4587d2-4064-4c30-9814-55e7ebef6d8d"
      },
      "outputs": [
        {
          "output_type": "stream",
          "name": "stdout",
          "text": [
            "-----------------Median Bin :----------------- \n",
            " [[4.4 4.4 4.4]\n",
            " [4.7 4.7 4.7]\n",
            " [0.  0.  0. ]\n",
            " [0.  0.  0. ]\n",
            " [0.  0.  0. ]\n",
            " [0.  0.  0. ]\n",
            " [0.  0.  0. ]\n",
            " [0.  0.  0. ]\n",
            " [0.  0.  0. ]\n",
            " [0.  0.  0. ]]\n"
          ]
        }
      ],
      "source": [
        "for i in range (0,10,5): \n",
        "  k=int(i/3) \n",
        "  for j in range (3): \n",
        "    b2[k,j]=data[i+1] \n",
        "print(\"-----------------Median Bin :----------------- \\n\",b2)"
      ]
    },
    {
      "cell_type": "code",
      "execution_count": 7,
      "id": "9eb90b91",
      "metadata": {
        "colab": {
          "base_uri": "https://localhost:8080/"
        },
        "id": "9eb90b91",
        "outputId": "176309df-5bc9-4909-c150-6bbc32657445"
      },
      "outputs": [
        {
          "output_type": "stream",
          "name": "stdout",
          "text": [
            "-----------------Boundary Bin:----------------- \n",
            " [[4.3 4.3 4.6]\n",
            " [4.6 4.6 4.7]\n",
            " [4.7 4.8 4.8]\n",
            " [4.8 4.9 4.9]\n",
            " [5.  5.  5. ]\n",
            " [5.  5.1 5.1]\n",
            " [5.1 5.1 5.1]\n",
            " [5.2 5.2 5.4]\n",
            " [5.4 5.4 5.4]\n",
            " [5.7 5.7 5.8]]\n"
          ]
        }
      ],
      "source": [
        "for i in range (0,30,3): \n",
        "  k=int(i/3) \n",
        "  for j in range (3): \n",
        "    if (data[i+j]-data[i]) < (data[i+2]-data[i+j]): \n",
        "      b3[k,j]=data[i] \n",
        "    else: \n",
        "      b3[k,j]=data[i+2]   \n",
        "print(\"-----------------Boundary Bin:----------------- \\n\",b3)"
      ]
    },
    {
      "cell_type": "code",
      "execution_count": 8,
      "id": "67edad0b",
      "metadata": {
        "colab": {
          "base_uri": "https://localhost:8080/",
          "height": 175
        },
        "id": "67edad0b",
        "outputId": "31075e54-b38d-4bf5-eb49-d5773557d58d"
      },
      "outputs": [
        {
          "output_type": "display_data",
          "data": {
            "text/html": [
              "\n",
              "  <div id=\"df-9562d750-4965-4f55-9641-a7d940d6723f\">\n",
              "    <div class=\"colab-df-container\">\n",
              "      <div>\n",
              "<style scoped>\n",
              "    .dataframe tbody tr th:only-of-type {\n",
              "        vertical-align: middle;\n",
              "    }\n",
              "\n",
              "    .dataframe tbody tr th {\n",
              "        vertical-align: top;\n",
              "    }\n",
              "\n",
              "    .dataframe thead th {\n",
              "        text-align: right;\n",
              "    }\n",
              "</style>\n",
              "<table border=\"1\" class=\"dataframe\">\n",
              "  <thead>\n",
              "    <tr style=\"text-align: right;\">\n",
              "      <th></th>\n",
              "      <th>A</th>\n",
              "      <th>B</th>\n",
              "      <th>C</th>\n",
              "      <th>D</th>\n",
              "    </tr>\n",
              "  </thead>\n",
              "  <tbody>\n",
              "    <tr>\n",
              "      <th>0</th>\n",
              "      <td>5</td>\n",
              "      <td>10</td>\n",
              "      <td>15</td>\n",
              "      <td>20</td>\n",
              "    </tr>\n",
              "    <tr>\n",
              "      <th>1</th>\n",
              "      <td>25</td>\n",
              "      <td>30</td>\n",
              "      <td>35</td>\n",
              "      <td>40</td>\n",
              "    </tr>\n",
              "    <tr>\n",
              "      <th>2</th>\n",
              "      <td>45</td>\n",
              "      <td>50</td>\n",
              "      <td>55</td>\n",
              "      <td>60</td>\n",
              "    </tr>\n",
              "    <tr>\n",
              "      <th>3</th>\n",
              "      <td>65</td>\n",
              "      <td>70</td>\n",
              "      <td>75</td>\n",
              "      <td>80</td>\n",
              "    </tr>\n",
              "  </tbody>\n",
              "</table>\n",
              "</div>\n",
              "      <button class=\"colab-df-convert\" onclick=\"convertToInteractive('df-9562d750-4965-4f55-9641-a7d940d6723f')\"\n",
              "              title=\"Convert this dataframe to an interactive table.\"\n",
              "              style=\"display:none;\">\n",
              "        \n",
              "  <svg xmlns=\"http://www.w3.org/2000/svg\" height=\"24px\"viewBox=\"0 0 24 24\"\n",
              "       width=\"24px\">\n",
              "    <path d=\"M0 0h24v24H0V0z\" fill=\"none\"/>\n",
              "    <path d=\"M18.56 5.44l.94 2.06.94-2.06 2.06-.94-2.06-.94-.94-2.06-.94 2.06-2.06.94zm-11 1L8.5 8.5l.94-2.06 2.06-.94-2.06-.94L8.5 2.5l-.94 2.06-2.06.94zm10 10l.94 2.06.94-2.06 2.06-.94-2.06-.94-.94-2.06-.94 2.06-2.06.94z\"/><path d=\"M17.41 7.96l-1.37-1.37c-.4-.4-.92-.59-1.43-.59-.52 0-1.04.2-1.43.59L10.3 9.45l-7.72 7.72c-.78.78-.78 2.05 0 2.83L4 21.41c.39.39.9.59 1.41.59.51 0 1.02-.2 1.41-.59l7.78-7.78 2.81-2.81c.8-.78.8-2.07 0-2.86zM5.41 20L4 18.59l7.72-7.72 1.47 1.35L5.41 20z\"/>\n",
              "  </svg>\n",
              "      </button>\n",
              "      \n",
              "  <style>\n",
              "    .colab-df-container {\n",
              "      display:flex;\n",
              "      flex-wrap:wrap;\n",
              "      gap: 12px;\n",
              "    }\n",
              "\n",
              "    .colab-df-convert {\n",
              "      background-color: #E8F0FE;\n",
              "      border: none;\n",
              "      border-radius: 50%;\n",
              "      cursor: pointer;\n",
              "      display: none;\n",
              "      fill: #1967D2;\n",
              "      height: 32px;\n",
              "      padding: 0 0 0 0;\n",
              "      width: 32px;\n",
              "    }\n",
              "\n",
              "    .colab-df-convert:hover {\n",
              "      background-color: #E2EBFA;\n",
              "      box-shadow: 0px 1px 2px rgba(60, 64, 67, 0.3), 0px 1px 3px 1px rgba(60, 64, 67, 0.15);\n",
              "      fill: #174EA6;\n",
              "    }\n",
              "\n",
              "    [theme=dark] .colab-df-convert {\n",
              "      background-color: #3B4455;\n",
              "      fill: #D2E3FC;\n",
              "    }\n",
              "\n",
              "    [theme=dark] .colab-df-convert:hover {\n",
              "      background-color: #434B5C;\n",
              "      box-shadow: 0px 1px 3px 1px rgba(0, 0, 0, 0.15);\n",
              "      filter: drop-shadow(0px 1px 2px rgba(0, 0, 0, 0.3));\n",
              "      fill: #FFFFFF;\n",
              "    }\n",
              "  </style>\n",
              "\n",
              "      <script>\n",
              "        const buttonEl =\n",
              "          document.querySelector('#df-9562d750-4965-4f55-9641-a7d940d6723f button.colab-df-convert');\n",
              "        buttonEl.style.display =\n",
              "          google.colab.kernel.accessAllowed ? 'block' : 'none';\n",
              "\n",
              "        async function convertToInteractive(key) {\n",
              "          const element = document.querySelector('#df-9562d750-4965-4f55-9641-a7d940d6723f');\n",
              "          const dataTable =\n",
              "            await google.colab.kernel.invokeFunction('convertToInteractive',\n",
              "                                                     [key], {});\n",
              "          if (!dataTable) return;\n",
              "\n",
              "          const docLinkHtml = 'Like what you see? Visit the ' +\n",
              "            '<a target=\"_blank\" href=https://colab.research.google.com/notebooks/data_table.ipynb>data table notebook</a>'\n",
              "            + ' to learn more about interactive tables.';\n",
              "          element.innerHTML = '';\n",
              "          dataTable['output_type'] = 'display_data';\n",
              "          await google.colab.output.renderOutput(dataTable, element);\n",
              "          const docLink = document.createElement('div');\n",
              "          docLink.innerHTML = docLinkHtml;\n",
              "          element.appendChild(docLink);\n",
              "        }\n",
              "      </script>\n",
              "    </div>\n",
              "  </div>\n",
              "  "
            ],
            "text/plain": [
              "    A   B   C   D\n",
              "0   5  10  15  20\n",
              "1  25  30  35  40\n",
              "2  45  50  55  60\n",
              "3  65  70  75  80"
            ]
          },
          "metadata": {}
        }
      ],
      "source": [
        "import pandas as pd\n",
        "df = pd.DataFrame([\n",
        "                   [5, 10, 15, 20], \n",
        "                   [25, 30, 35, 40], \n",
        "                   [45, 50, 55, 60], \n",
        "                   [65, 70, 75, 80]], \n",
        "    \n",
        "                   columns=['A', ' B','C', 'D'])\n",
        "\n",
        "display(df)"
      ]
    },
    {
      "cell_type": "code",
      "execution_count": 9,
      "id": "4c103132",
      "metadata": {
        "colab": {
          "base_uri": "https://localhost:8080/"
        },
        "id": "4c103132",
        "outputId": "593fd04f-76ed-4120-88d2-0192edece039"
      },
      "outputs": [
        {
          "output_type": "stream",
          "name": "stdout",
          "text": [
            "          A         B         C         D\n",
            "0  0.000000  0.000000  0.000000  0.000000\n",
            "1  0.333333  0.333333  0.333333  0.333333\n",
            "2  0.666667  0.666667  0.666667  0.666667\n",
            "3  1.000000  1.000000  1.000000  1.000000\n"
          ]
        }
      ],
      "source": [
        "df_min_max_scaled = df.copy()\n",
        "  \n",
        "# apply normalization techniques\n",
        "for column in df_min_max_scaled.columns:\n",
        "    df_min_max_scaled[column] = (df_min_max_scaled[column] - df_min_max_scaled[column].min()) / (df_min_max_scaled[column].max() - df_min_max_scaled[column].min())    \n",
        "  \n",
        "# view normalized data\n",
        "print(df_min_max_scaled)"
      ]
    },
    {
      "cell_type": "code",
      "execution_count": 10,
      "id": "eb021ff5",
      "metadata": {
        "colab": {
          "base_uri": "https://localhost:8080/",
          "height": 279
        },
        "id": "eb021ff5",
        "outputId": "bf5f466a-fca5-4540-a2a7-d901ba36d943"
      },
      "outputs": [
        {
          "output_type": "execute_result",
          "data": {
            "text/plain": [
              "<matplotlib.axes._subplots.AxesSubplot at 0x7fe56678d390>"
            ]
          },
          "metadata": {},
          "execution_count": 10
        },
        {
          "output_type": "display_data",
          "data": {
            "image/png": "[encoded data removed]",
            "text/plain": [
              "<Figure size 432x288 with 1 Axes>"
            ]
          },
          "metadata": {
            "needs_background": "light"
          }
        }
      ],
      "source": [
        "import matplotlib.pyplot as plt\n",
        "df_min_max_scaled.plot(kind = 'bar')"
      ]
    }
  ],
  "metadata": {
    "kernelspec": {
      "display_name": "Python 3 (ipykernel)",
      "language": "python",
      "name": "python3"
    },
    "language_info": {
      "codemirror_mode": {
        "name": "ipython",
        "version": 3
      },
      "file_extension": ".py",
      "mimetype": "text/x-python",
      "name": "python",
      "nbconvert_exporter": "python",
      "pygments_lexer": "ipython3",
      "version": "3.9.7"
    },
    "colab": {
      "name": "lab8.ipynb",
      "provenance": [],
      "include_colab_link": true
    }
  },
  "nbformat": 4,
  "nbformat_minor": 5
}